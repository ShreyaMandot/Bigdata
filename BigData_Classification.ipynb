{
  "nbformat": 4,
  "nbformat_minor": 0,
  "metadata": {
    "colab": {
      "name": "classification.ipynb",
      "provenance": [],
      "collapsed_sections": [],
      "authorship_tag": "ABX9TyOiCptLyH5GmU3VlGL2e+m0",
      "include_colab_link": true
    },
    "kernelspec": {
      "name": "python3",
      "display_name": "Python 3"
    },
    "language_info": {
      "name": "python"
    }
  },
  "cells": [
    {
      "cell_type": "markdown",
      "metadata": {
        "id": "view-in-github",
        "colab_type": "text"
      },
      "source": [
        "<a href=\"https://colab.research.google.com/github/ShreyaMandot/Bigdata/blob/main/BigData_Classification.ipynb\" target=\"_parent\"><img src=\"https://colab.research.google.com/assets/colab-badge.svg\" alt=\"Open In Colab\"/></a>"
      ]
    },
    {
      "cell_type": "markdown",
      "source": [
        "#Setting up PySpark in Colab"
      ],
      "metadata": {
        "id": "QDeMdcx9dXLs"
      }
    },
    {
      "cell_type": "code",
      "execution_count": null,
      "metadata": {
        "colab": {
          "base_uri": "https://localhost:8080/"
        },
        "id": "oTQ2-fWFiZuH",
        "outputId": "9f7cc66f-5798-4236-fa22-4c7f2d88d979"
      },
      "outputs": [
        {
          "output_type": "stream",
          "name": "stdout",
          "text": [
            "Reading package lists... Done\n",
            "Building dependency tree       \n",
            "Reading state information... Done\n",
            "The following packages were automatically installed and are no longer required:\n",
            "  libnvidia-common-460 nsight-compute-2020.2.0\n",
            "Use 'apt autoremove' to remove them.\n",
            "The following additional packages will be installed:\n",
            "  openjdk-8-jre-headless\n",
            "Suggested packages:\n",
            "  openjdk-8-demo openjdk-8-source libnss-mdns fonts-dejavu-extra\n",
            "  fonts-ipafont-gothic fonts-ipafont-mincho fonts-wqy-microhei\n",
            "  fonts-wqy-zenhei fonts-indic\n",
            "The following NEW packages will be installed:\n",
            "  openjdk-8-jdk-headless openjdk-8-jre-headless\n",
            "0 upgraded, 2 newly installed, 0 to remove and 42 not upgraded.\n",
            "Need to get 36.5 MB of archives.\n",
            "After this operation, 143 MB of additional disk space will be used.\n",
            "Get:1 http://archive.ubuntu.com/ubuntu bionic-updates/universe amd64 openjdk-8-jre-headless amd64 8u312-b07-0ubuntu1~18.04 [28.2 MB]\n",
            "Get:2 http://archive.ubuntu.com/ubuntu bionic-updates/universe amd64 openjdk-8-jdk-headless amd64 8u312-b07-0ubuntu1~18.04 [8,298 kB]\n",
            "Fetched 36.5 MB in 2s (17.7 MB/s)\n",
            "Selecting previously unselected package openjdk-8-jre-headless:amd64.\n",
            "(Reading database ... 155203 files and directories currently installed.)\n",
            "Preparing to unpack .../openjdk-8-jre-headless_8u312-b07-0ubuntu1~18.04_amd64.deb ...\n",
            "Unpacking openjdk-8-jre-headless:amd64 (8u312-b07-0ubuntu1~18.04) ...\n",
            "Selecting previously unselected package openjdk-8-jdk-headless:amd64.\n",
            "Preparing to unpack .../openjdk-8-jdk-headless_8u312-b07-0ubuntu1~18.04_amd64.deb ...\n",
            "Unpacking openjdk-8-jdk-headless:amd64 (8u312-b07-0ubuntu1~18.04) ...\n",
            "Setting up openjdk-8-jre-headless:amd64 (8u312-b07-0ubuntu1~18.04) ...\n",
            "update-alternatives: using /usr/lib/jvm/java-8-openjdk-amd64/jre/bin/orbd to provide /usr/bin/orbd (orbd) in auto mode\n",
            "update-alternatives: using /usr/lib/jvm/java-8-openjdk-amd64/jre/bin/servertool to provide /usr/bin/servertool (servertool) in auto mode\n",
            "update-alternatives: using /usr/lib/jvm/java-8-openjdk-amd64/jre/bin/tnameserv to provide /usr/bin/tnameserv (tnameserv) in auto mode\n",
            "Setting up openjdk-8-jdk-headless:amd64 (8u312-b07-0ubuntu1~18.04) ...\n",
            "update-alternatives: using /usr/lib/jvm/java-8-openjdk-amd64/bin/idlj to provide /usr/bin/idlj (idlj) in auto mode\n",
            "update-alternatives: using /usr/lib/jvm/java-8-openjdk-amd64/bin/wsimport to provide /usr/bin/wsimport (wsimport) in auto mode\n",
            "update-alternatives: using /usr/lib/jvm/java-8-openjdk-amd64/bin/jsadebugd to provide /usr/bin/jsadebugd (jsadebugd) in auto mode\n",
            "update-alternatives: using /usr/lib/jvm/java-8-openjdk-amd64/bin/native2ascii to provide /usr/bin/native2ascii (native2ascii) in auto mode\n",
            "update-alternatives: using /usr/lib/jvm/java-8-openjdk-amd64/bin/javah to provide /usr/bin/javah (javah) in auto mode\n",
            "update-alternatives: using /usr/lib/jvm/java-8-openjdk-amd64/bin/hsdb to provide /usr/bin/hsdb (hsdb) in auto mode\n",
            "update-alternatives: using /usr/lib/jvm/java-8-openjdk-amd64/bin/clhsdb to provide /usr/bin/clhsdb (clhsdb) in auto mode\n",
            "update-alternatives: using /usr/lib/jvm/java-8-openjdk-amd64/bin/xjc to provide /usr/bin/xjc (xjc) in auto mode\n",
            "update-alternatives: using /usr/lib/jvm/java-8-openjdk-amd64/bin/schemagen to provide /usr/bin/schemagen (schemagen) in auto mode\n",
            "update-alternatives: using /usr/lib/jvm/java-8-openjdk-amd64/bin/extcheck to provide /usr/bin/extcheck (extcheck) in auto mode\n",
            "update-alternatives: using /usr/lib/jvm/java-8-openjdk-amd64/bin/jhat to provide /usr/bin/jhat (jhat) in auto mode\n",
            "update-alternatives: using /usr/lib/jvm/java-8-openjdk-amd64/bin/wsgen to provide /usr/bin/wsgen (wsgen) in auto mode\n",
            "--2022-05-17 09:50:00--  https://archive.apache.org/dist/spark/spark-3.2.1/spark-3.2.1-bin-hadoop2.7.tgz\n",
            "Resolving archive.apache.org (archive.apache.org)... 138.201.131.134, 2a01:4f8:172:2ec5::2\n",
            "Connecting to archive.apache.org (archive.apache.org)|138.201.131.134|:443... connected.\n",
            "HTTP request sent, awaiting response... 200 OK\n",
            "Length: 272637746 (260M) [application/x-gzip]\n",
            "Saving to: ‘spark-3.2.1-bin-hadoop2.7.tgz’\n",
            "\n",
            "spark-3.2.1-bin-had 100%[===================>] 260.01M  28.6MB/s    in 9.9s    \n",
            "\n",
            "2022-05-17 09:50:11 (26.3 MB/s) - ‘spark-3.2.1-bin-hadoop2.7.tgz’ saved [272637746/272637746]\n",
            "\n"
          ]
        }
      ],
      "source": [
        "!apt-get install openjdk-8-jdk-headless\n",
        "!wget https://archive.apache.org/dist/spark/spark-3.2.1/spark-3.2.1-bin-hadoop2.7.tgz\n",
        "!tar xf /content/spark-3.2.1-bin-hadoop2.7.tgz\n",
        "!pip install -q findspark\n",
        "import os\n",
        "os.environ[\"JAVA_HOME\"] = \"/usr/lib/jvm/java-8-openjdk-amd64\"\n",
        "os.environ[\"SPARK_HOME\"] = \"/content/spark-3.2.1-bin-hadoop2.7\"\n",
        "\n",
        "import findspark\n",
        "findspark.init()\n",
        "findspark.find()\n",
        "\n",
        "import pyspark\n",
        "import numpy as np\n",
        "import pandas as pd\n"
      ]
    },
    {
      "cell_type": "markdown",
      "source": [
        "**Loading combined.csv file**"
      ],
      "metadata": {
        "id": "UEjmn5aSdbiE"
      }
    },
    {
      "cell_type": "code",
      "source": [
        "from pyspark.sql import SparkSession\n",
        "\n",
        "spark = SparkSession.builder.master('local[*]').appName('game').getOrCreate()\n",
        "\n",
        "# Read data from CSV file\n",
        "#you can download it from here: https://raw.githubusercontent.com/besherh/BigDataManagement/main/SparkCSV/flights-larger.csv\n",
        "combined_df = spark.read.csv('./combined-data.csv', sep=',', header=True, inferSchema=True, nullValue='NA')\n",
        "\n",
        "combined_df.show(5)"
      ],
      "metadata": {
        "colab": {
          "base_uri": "https://localhost:8080/"
        },
        "id": "iVJ1G9H-jAte",
        "outputId": "98929c8a-ab96-4e7f-fd9a-3948eca11553"
      },
      "execution_count": null,
      "outputs": [
        {
          "output_type": "stream",
          "name": "stdout",
          "text": [
            "+------+-------------+---------+------------+----------------+----------+-----------+---------+\n",
            "|userId|userSessionId|teamLevel|platformType|count_gameclicks|count_hits|count_buyId|avg_price|\n",
            "+------+-------------+---------+------------+----------------+----------+-----------+---------+\n",
            "|   812|         5648|        1|     android|              69|         8|       NULL|     NULL|\n",
            "|  1658|         5649|        1|      iphone|              31|         5|       NULL|     NULL|\n",
            "|  1589|         5650|        1|      iphone|              26|         2|       NULL|     NULL|\n",
            "|  1863|         5651|        1|     android|              35|         4|       NULL|     NULL|\n",
            "|   937|         5652|        1|     android|              39|         0|          1|     1.00|\n",
            "+------+-------------+---------+------------+----------------+----------+-----------+---------+\n",
            "only showing top 5 rows\n",
            "\n"
          ]
        }
      ]
    },
    {
      "cell_type": "code",
      "source": [
        "combined_df.printSchema"
      ],
      "metadata": {
        "colab": {
          "base_uri": "https://localhost:8080/"
        },
        "id": "5XcNMrKXn3rq",
        "outputId": "f860a618-4e46-4139-83a6-f746e21767bb"
      },
      "execution_count": null,
      "outputs": [
        {
          "output_type": "execute_result",
          "data": {
            "text/plain": [
              "<bound method DataFrame.printSchema of DataFrame[userId: int, userSessionId: int, teamLevel: int, platformType: string, count_gameclicks: int, count_hits: int, count_buyId: string, avg_price: string]>"
            ]
          },
          "metadata": {},
          "execution_count": 3
        }
      ]
    },
    {
      "cell_type": "code",
      "source": [
        "combined_df.count()\n"
      ],
      "metadata": {
        "colab": {
          "base_uri": "https://localhost:8080/"
        },
        "id": "kwxWuvko9Fu5",
        "outputId": "2ed7f930-6eef-44ef-dd92-c774df5da70d"
      },
      "execution_count": null,
      "outputs": [
        {
          "output_type": "execute_result",
          "data": {
            "text/plain": [
              "4619"
            ]
          },
          "metadata": {},
          "execution_count": 4
        }
      ]
    },
    {
      "cell_type": "markdown",
      "source": [
        "Removing an uninformative column and"
      ],
      "metadata": {
        "id": "RPuRURIOd0om"
      }
    },
    {
      "cell_type": "code",
      "source": [
        "# Remove the columns\n",
        "userid_drop_column = combined_df.drop('userId','userSessionId')\n",
        "#userid_drop_column = combined_df.drop('userSessionId')\n",
        "userid_drop_column.show(5)\n"
      ],
      "metadata": {
        "colab": {
          "base_uri": "https://localhost:8080/"
        },
        "id": "pvxvnf9SavuI",
        "outputId": "522e741a-639e-4843-fe02-f340926c4f25"
      },
      "execution_count": null,
      "outputs": [
        {
          "output_type": "stream",
          "name": "stdout",
          "text": [
            "+---------+------------+----------------+----------+-----------+---------+\n",
            "|teamLevel|platformType|count_gameclicks|count_hits|count_buyId|avg_price|\n",
            "+---------+------------+----------------+----------+-----------+---------+\n",
            "|        1|     android|              69|         8|       NULL|     NULL|\n",
            "|        1|      iphone|              31|         5|       NULL|     NULL|\n",
            "|        1|      iphone|              26|         2|       NULL|     NULL|\n",
            "|        1|     android|              35|         4|       NULL|     NULL|\n",
            "|        1|     android|              39|         0|          1|     1.00|\n",
            "+---------+------------+----------------+----------+-----------+---------+\n",
            "only showing top 5 rows\n",
            "\n"
          ]
        }
      ]
    },
    {
      "cell_type": "code",
      "source": [
        "type(userid_drop_column)"
      ],
      "metadata": {
        "colab": {
          "base_uri": "https://localhost:8080/"
        },
        "id": "N64La8-roIyh",
        "outputId": "92e19c6b-3cda-4361-d6d1-bc196b6f7a27"
      },
      "execution_count": null,
      "outputs": [
        {
          "output_type": "execute_result",
          "data": {
            "text/plain": [
              "pyspark.sql.dataframe.DataFrame"
            ]
          },
          "metadata": {},
          "execution_count": 139
        }
      ]
    },
    {
      "cell_type": "code",
      "source": [
        "from pyspark.sql.types import StringType, BooleanType, IntegerType\n",
        "course_df3 = userid_drop_column \\\n",
        "  .withColumn(\"avg_price\" ,\n",
        "              userid_drop_column[\"avg_price\"]\n",
        "              .cast(IntegerType()))   \\\n",
        "  .withColumn(\"count_buyId\",\n",
        "              userid_drop_column[\"count_buyId\"]\n",
        "              .cast(IntegerType()))  \n",
        "  \n",
        "#course_df3.printSchema()\n",
        "course_df3.show(10)"
      ],
      "metadata": {
        "colab": {
          "base_uri": "https://localhost:8080/"
        },
        "id": "BYkg9_7isb3k",
        "outputId": "917a171c-2da3-4b0f-e894-5aeec4a83d59"
      },
      "execution_count": null,
      "outputs": [
        {
          "output_type": "stream",
          "name": "stdout",
          "text": [
            "+---------+------------+----------------+----------+-----------+---------+\n",
            "|teamLevel|platformType|count_gameclicks|count_hits|count_buyId|avg_price|\n",
            "+---------+------------+----------------+----------+-----------+---------+\n",
            "|        1|     android|              69|         8|       null|     null|\n",
            "|        1|      iphone|              31|         5|       null|     null|\n",
            "|        1|      iphone|              26|         2|       null|     null|\n",
            "|        1|     android|              35|         4|       null|     null|\n",
            "|        1|     android|              39|         0|          1|        1|\n",
            "|        1|     android|              36|         5|       null|     null|\n",
            "|        1|      iphone|              40|         5|       null|     null|\n",
            "|        1|     windows|              46|         8|       null|     null|\n",
            "|        1|     android|              68|         6|       null|     null|\n",
            "|        1|      iphone|              76|         9|       null|     null|\n",
            "+---------+------------+----------------+----------+-----------+---------+\n",
            "only showing top 10 rows\n",
            "\n"
          ]
        }
      ]
    },
    {
      "cell_type": "markdown",
      "source": [
        "Total number of records"
      ],
      "metadata": {
        "id": "zhw8-CcseKb1"
      }
    },
    {
      "cell_type": "code",
      "source": [
        "course_df3.count()"
      ],
      "metadata": {
        "colab": {
          "base_uri": "https://localhost:8080/"
        },
        "id": "LFdDMd-o-k8o",
        "outputId": "40ab57d2-7395-43c7-91de-81f639883302"
      },
      "execution_count": null,
      "outputs": [
        {
          "output_type": "execute_result",
          "data": {
            "text/plain": [
              "4619"
            ]
          },
          "metadata": {},
          "execution_count": 141
        }
      ]
    },
    {
      "cell_type": "code",
      "source": [
        "import pyspark.sql.functions as f\n",
        "df2 = course_df3.groupBy(\"platformType\").count().select('platformType', f.col('count'))\n",
        "df2.show()\n",
        "df2.toPandas().plot.bar(x='platformType', y='count',color='pink')"
      ],
      "metadata": {
        "colab": {
          "base_uri": "https://localhost:8080/",
          "height": 512
        },
        "id": "2yXOmFEH9qP0",
        "outputId": "bab3be72-7592-4e11-e79b-b478b7b5239a"
      },
      "execution_count": null,
      "outputs": [
        {
          "output_type": "stream",
          "name": "stdout",
          "text": [
            "+------------+-----+\n",
            "|platformType|count|\n",
            "+------------+-----+\n",
            "|      iphone| 1934|\n",
            "|     android| 1635|\n",
            "|       linux|  252|\n",
            "|         mac|  179|\n",
            "|     windows|  619|\n",
            "+------------+-----+\n",
            "\n"
          ]
        },
        {
          "output_type": "execute_result",
          "data": {
            "text/plain": [
              "<matplotlib.axes._subplots.AxesSubplot at 0x7f0d8140da10>"
            ]
          },
          "metadata": {},
          "execution_count": 142
        },
        {
          "output_type": "display_data",
          "data": {
            "text/plain": [
              "<Figure size 432x288 with 1 Axes>"
            ],
            "image/png": "[encoded data removed]"
          },
          "metadata": {
            "needs_background": "light"
          }
        }
      ]
    },
    {
      "cell_type": "code",
      "source": [
        "type(course_df3)"
      ],
      "metadata": {
        "colab": {
          "base_uri": "https://localhost:8080/"
        },
        "id": "bWbMyjqVtLrX",
        "outputId": "69b694d5-274c-4309-f3d2-32ec751abc94"
      },
      "execution_count": null,
      "outputs": [
        {
          "output_type": "execute_result",
          "data": {
            "text/plain": [
              "pyspark.sql.dataframe.DataFrame"
            ]
          },
          "metadata": {},
          "execution_count": 143
        }
      ]
    },
    {
      "cell_type": "markdown",
      "source": [
        "Removing Null values"
      ],
      "metadata": {
        "id": "qns-Bm7qeWt8"
      }
    },
    {
      "cell_type": "code",
      "source": [
        "Combined_valid_avg = course_df3.filter('avg_price IS NOT NULL')\n",
        "Combined_valid_avg.show(5)\n"
      ],
      "metadata": {
        "colab": {
          "base_uri": "https://localhost:8080/"
        },
        "id": "_SSwMnEutflt",
        "outputId": "037d3993-112f-4296-8284-441ca233917c"
      },
      "execution_count": null,
      "outputs": [
        {
          "output_type": "stream",
          "name": "stdout",
          "text": [
            "+---------+------------+----------------+----------+-----------+---------+\n",
            "|teamLevel|platformType|count_gameclicks|count_hits|count_buyId|avg_price|\n",
            "+---------+------------+----------------+----------+-----------+---------+\n",
            "|        1|     android|              39|         0|          1|        1|\n",
            "|        1|      iphone|             129|         9|          1|       10|\n",
            "|        1|     android|             102|        14|          1|        5|\n",
            "|        1|     android|              39|         4|          1|        3|\n",
            "|        1|     android|              90|        10|          1|        3|\n",
            "+---------+------------+----------------+----------+-----------+---------+\n",
            "only showing top 5 rows\n",
            "\n"
          ]
        }
      ]
    },
    {
      "cell_type": "markdown",
      "source": [
        "Total number of records after cleaning dataframe"
      ],
      "metadata": {
        "id": "AzWkRr19eb0J"
      }
    },
    {
      "cell_type": "code",
      "source": [
        "Combined_valid_avg.count()"
      ],
      "metadata": {
        "colab": {
          "base_uri": "https://localhost:8080/"
        },
        "id": "hYcNUMxy_f_q",
        "outputId": "409877a4-6859-4d61-dbdd-772b7bc20495"
      },
      "execution_count": null,
      "outputs": [
        {
          "output_type": "execute_result",
          "data": {
            "text/plain": [
              "1411"
            ]
          },
          "metadata": {},
          "execution_count": 145
        }
      ]
    },
    {
      "cell_type": "markdown",
      "source": [
        "Creating label on avg_price"
      ],
      "metadata": {
        "id": "pxVSs0e1ejBx"
      }
    },
    {
      "cell_type": "code",
      "source": [
        "# Create 'label' column indicating whether buyer is high-roller (1) or not(0)\n",
        "Combined_valid_avg = Combined_valid_avg.withColumn('label', (Combined_valid_avg.avg_price >= 10).cast('integer'))\n",
        "\n",
        "# Check first five records\n",
        "Combined_valid_avg.show(5)"
      ],
      "metadata": {
        "colab": {
          "base_uri": "https://localhost:8080/"
        },
        "id": "tKV4w_7uuJsE",
        "outputId": "d4c42874-489b-4916-987e-9a50897ec3f0"
      },
      "execution_count": null,
      "outputs": [
        {
          "output_type": "stream",
          "name": "stdout",
          "text": [
            "+---------+------------+----------------+----------+-----------+---------+-----+\n",
            "|teamLevel|platformType|count_gameclicks|count_hits|count_buyId|avg_price|label|\n",
            "+---------+------------+----------------+----------+-----------+---------+-----+\n",
            "|        1|     android|              39|         0|          1|        1|    0|\n",
            "|        1|      iphone|             129|         9|          1|       10|    1|\n",
            "|        1|     android|             102|        14|          1|        5|    0|\n",
            "|        1|     android|              39|         4|          1|        3|    0|\n",
            "|        1|     android|              90|        10|          1|        3|    0|\n",
            "+---------+------------+----------------+----------+-----------+---------+-----+\n",
            "only showing top 5 rows\n",
            "\n"
          ]
        }
      ]
    },
    {
      "cell_type": "markdown",
      "source": [
        "### Categorical columns\n",
        "In the Combined data there is coulumn 'platformType', which hold categorical data. We need to transform those column into indexed numerical values.\n"
      ],
      "metadata": {
        "id": "984wT3xpeniM"
      }
    },
    {
      "cell_type": "code",
      "source": [
        "from pyspark.ml.feature import StringIndexer\n",
        "\n",
        "# Create an indexer\n",
        "indexer = StringIndexer(inputCol='platformType', outputCol='platformType_idx')\n",
        "\n",
        "# Indexer identifies categories in the data\n",
        "indexer_model = indexer.fit(Combined_valid_avg)\n",
        "\n",
        "# Indexer creates a new column with numeric index values\n",
        "combined_indexed = indexer_model.transform(Combined_valid_avg)\n",
        "\n",
        "combined_indexed.show(5)"
      ],
      "metadata": {
        "colab": {
          "base_uri": "https://localhost:8080/"
        },
        "id": "waOhgQca5vaN",
        "outputId": "bc12bd15-442d-4a7c-8af6-6b4c34bd42e9"
      },
      "execution_count": null,
      "outputs": [
        {
          "output_type": "stream",
          "name": "stdout",
          "text": [
            "+---------+------------+----------------+----------+-----------+---------+-----+----------------+\n",
            "|teamLevel|platformType|count_gameclicks|count_hits|count_buyId|avg_price|label|platformType_idx|\n",
            "+---------+------------+----------------+----------+-----------+---------+-----+----------------+\n",
            "|        1|     android|              39|         0|          1|        1|    0|             1.0|\n",
            "|        1|      iphone|             129|         9|          1|       10|    1|             0.0|\n",
            "|        1|     android|             102|        14|          1|        5|    0|             1.0|\n",
            "|        1|     android|              39|         4|          1|        3|    0|             1.0|\n",
            "|        1|     android|              90|        10|          1|        3|    0|             1.0|\n",
            "+---------+------------+----------------+----------+-----------+---------+-----+----------------+\n",
            "only showing top 5 rows\n",
            "\n"
          ]
        }
      ]
    },
    {
      "cell_type": "code",
      "source": [
        "Combined_valid_avg.printSchema"
      ],
      "metadata": {
        "colab": {
          "base_uri": "https://localhost:8080/"
        },
        "id": "ijIcIFLW7Y0B",
        "outputId": "924eccdc-8398-4b1d-ed8d-c50a08c6db2d"
      },
      "execution_count": null,
      "outputs": [
        {
          "output_type": "execute_result",
          "data": {
            "text/plain": [
              "<bound method DataFrame.printSchema of DataFrame[teamLevel: int, platformType: string, count_gameclicks: int, count_hits: int, count_buyId: int, avg_price: int, label: int]>"
            ]
          },
          "metadata": {},
          "execution_count": 148
        }
      ]
    },
    {
      "cell_type": "markdown",
      "source": [
        "### Assembling columns\n",
        "The final stage of data preparation is to consolidate all of the predictor columns into a single column.\n",
        "\n",
        "At present our data has the following predictor columns:\n",
        "\n",
        "- `teamLevel`, `count_gameclicks`, `count_hits` and 'count_buyId'\n",
        "- `platformType_idx` (derived from `platformType`)"
      ],
      "metadata": {
        "id": "tJIVdDtGgQ0g"
      }
    },
    {
      "cell_type": "code",
      "source": [
        "from pyspark.ml.feature import VectorAssembler\n",
        "\n",
        "# Create an assembler object\n",
        "#assembler = VectorAssembler(inputCols=[\n",
        " #   'teamLevel', 'count_gameclicks', 'count_hits',\n",
        "  #  'count_buyId','platformType_idx'\n",
        "    \n",
        "#], outputCol='features')\n",
        "\n",
        "assembler = VectorAssembler(inputCols=[\n",
        "    'count_gameclicks', 'count_hits',\n",
        "    'count_buyId','platformType_idx'\n",
        "    \n",
        "], outputCol='features')\n",
        "\n",
        "# Consolidate predictor columns\n",
        "combined_assembled = assembler.transform(combined_indexed)\n",
        "\n",
        "# Check the resulting column\n",
        "combined_assembled.select('features', 'avg_price').show(10, truncate=False)"
      ],
      "metadata": {
        "colab": {
          "base_uri": "https://localhost:8080/"
        },
        "id": "-32cYS2I_d8f",
        "outputId": "3bcc5f3e-c898-4c06-9544-3d5b2dad8586"
      },
      "execution_count": null,
      "outputs": [
        {
          "output_type": "stream",
          "name": "stdout",
          "text": [
            "+--------------------+---------+\n",
            "|features            |avg_price|\n",
            "+--------------------+---------+\n",
            "|[39.0,0.0,1.0,1.0]  |1        |\n",
            "|[129.0,9.0,1.0,0.0] |10       |\n",
            "|[102.0,14.0,1.0,1.0]|5        |\n",
            "|[39.0,4.0,1.0,1.0]  |3        |\n",
            "|[90.0,10.0,1.0,1.0] |3        |\n",
            "|[51.0,8.0,1.0,0.0]  |20       |\n",
            "|[51.0,6.0,2.0,1.0]  |2        |\n",
            "|[47.0,5.0,2.0,1.0]  |2        |\n",
            "|[46.0,7.0,1.0,1.0]  |1        |\n",
            "|[41.0,6.0,1.0,0.0]  |20       |\n",
            "+--------------------+---------+\n",
            "only showing top 10 rows\n",
            "\n"
          ]
        }
      ]
    },
    {
      "cell_type": "code",
      "source": [
        "combined_assembled.printSchema"
      ],
      "metadata": {
        "colab": {
          "base_uri": "https://localhost:8080/"
        },
        "id": "6jbASUMDNCKr",
        "outputId": "e65f8b40-2596-4ba5-a1be-ebb8d89db124"
      },
      "execution_count": null,
      "outputs": [
        {
          "output_type": "execute_result",
          "data": {
            "text/plain": [
              "<bound method DataFrame.printSchema of DataFrame[teamLevel: int, platformType: string, count_gameclicks: int, count_hits: int, count_buyId: int, avg_price: int, label: int, platformType_idx: double, features: vector]>"
            ]
          },
          "metadata": {},
          "execution_count": 154
        }
      ]
    },
    {
      "cell_type": "markdown",
      "source": [
        "### Train/test split\n",
        "To objectively assess a Machine Learning model we need to be able to test it on an independent set of data. We can't use the same data that you used to train the model: of course the model will perform (relatively) well on those data!\n",
        "\n",
        "we will split the data into two components:\n",
        "\n",
        "- training data (used to train the model) and\n",
        "- testing data (used to test the model)."
      ],
      "metadata": {
        "id": "-VAmuFTLgaw2"
      }
    },
    {
      "cell_type": "code",
      "source": [
        "# Split into training and test sets in a 70:30 ratio\n",
        "combined_train, combined_test = combined_assembled.randomSplit([0.7, 0.3], seed=17)\n",
        "\n",
        "# Check that training set has around 70% of records\n",
        "training_ratio = combined_train.count() / combined_assembled.count()\n",
        "print(training_ratio)"
      ],
      "metadata": {
        "colab": {
          "base_uri": "https://localhost:8080/"
        },
        "id": "nwibJq9lAsoS",
        "outputId": "1a0495f5-d7fd-4234-e915-206a21fd330d"
      },
      "execution_count": null,
      "outputs": [
        {
          "output_type": "stream",
          "name": "stdout",
          "text": [
            "0.6931254429482636\n"
          ]
        }
      ]
    },
    {
      "cell_type": "markdown",
      "source": [
        "### Build a Decision Tree\n",
        "Now that we've split the flights data into training and testing sets, we can use the training set to fit a Decision Tree model."
      ],
      "metadata": {
        "id": "-9SoQ6gYgiRk"
      }
    },
    {
      "cell_type": "code",
      "source": [
        "from pyspark.ml.classification import DecisionTreeClassifier\n",
        "\n",
        "# Create a classifier object and fit to the training data\n",
        "tree = DecisionTreeClassifier()\n",
        "tree_model = tree.fit(combined_train)\n",
        "\n",
        "# Create predictions for the testing data and take a look at the predictions\n",
        "prediction = tree_model.transform(combined_test)\n",
        "prediction.select('label', 'prediction', 'probability').show(11, False)"
      ],
      "metadata": {
        "colab": {
          "base_uri": "https://localhost:8080/"
        },
        "id": "kqohmVP4B3dT",
        "outputId": "e535bfe5-c2fa-4201-df7c-2a526672a632"
      },
      "execution_count": null,
      "outputs": [
        {
          "output_type": "stream",
          "name": "stdout",
          "text": [
            "+-----+----------+----------------------------------------+\n",
            "|label|prediction|probability                             |\n",
            "+-----+----------+----------------------------------------+\n",
            "|0    |0.0       |[0.8894601542416453,0.11053984575835475]|\n",
            "|0    |0.0       |[0.8894601542416453,0.11053984575835475]|\n",
            "|0    |0.0       |[0.8894601542416453,0.11053984575835475]|\n",
            "|0    |0.0       |[0.8894601542416453,0.11053984575835475]|\n",
            "|0    |0.0       |[0.8894601542416453,0.11053984575835475]|\n",
            "|0    |0.0       |[0.8894601542416453,0.11053984575835475]|\n",
            "|0    |0.0       |[0.8894601542416453,0.11053984575835475]|\n",
            "|0    |0.0       |[0.8894601542416453,0.11053984575835475]|\n",
            "|0    |0.0       |[0.8894601542416453,0.11053984575835475]|\n",
            "|0    |0.0       |[0.8894601542416453,0.11053984575835475]|\n",
            "|1    |1.0       |[0.18658892128279883,0.8134110787172012]|\n",
            "+-----+----------+----------------------------------------+\n",
            "only showing top 11 rows\n",
            "\n"
          ]
        }
      ]
    },
    {
      "cell_type": "code",
      "source": [
        "prediction.count()"
      ],
      "metadata": {
        "colab": {
          "base_uri": "https://localhost:8080/"
        },
        "id": "QZn12TNt2XaD",
        "outputId": "7db8abf5-c3d0-446a-9c96-32687038dd4f"
      },
      "execution_count": null,
      "outputs": [
        {
          "output_type": "execute_result",
          "data": {
            "text/plain": [
              "433"
            ]
          },
          "metadata": {},
          "execution_count": 125
        }
      ]
    },
    {
      "cell_type": "markdown",
      "source": [
        "### Evaluate the Decision Tree\n",
        "\n",
        "A confusion matrix gives a useful breakdown of predictions versus known values. It has four cells which represent the counts of:\n",
        "\n",
        "- True Negatives (TN) — model predicts negative outcome & known outcome is negative\n",
        "- True Positives (TP) — model predicts positive outcome & known outcome is positive\n",
        "- False Negatives (FN) — model predicts negative outcome but known outcome is positive\n",
        "- False Positives (FP) — model predicts positive outcome but known outcome is negative."
      ],
      "metadata": {
        "id": "nlXmSLT6gst9"
      }
    },
    {
      "cell_type": "code",
      "source": [
        "# Create a confusion matrix\n",
        "confusionMatrix= prediction.groupBy('label', 'prediction').count().show()\n",
        "\n",
        "# Calculate the elements of the confusion matrix\n",
        "TN = prediction.filter('prediction = 0 AND label = prediction').count()\n",
        "#print('TN=', TN)\n",
        "TP = prediction.filter('prediction = 1 AND label = prediction').count()\n",
        "#print('TP=', TP)\n",
        "FN = prediction.filter('prediction = 0 AND label = 1').count()\n",
        "#print('FN=', FN)\n",
        "FP = prediction.filter('prediction = 1 AND label = 0').count()\n",
        "#print('FP=', FP)\n",
        "\n",
        "# Accuracy measures the proportion of correct predictions\n",
        "accuracy = (TN + TP) / (TN + TP + FN + FP)\n",
        "print(\"Accuracy=\",accuracy)\n",
        "\n",
        "\n",
        "# Calculate precision and recall\n",
        "precision = TP / (TP + FP)\n",
        "recall = TP / (TP + FN)\n",
        "print('Precision = {:.2f}\\nRecall   = {:.2f}'.format(precision, recall))"
      ],
      "metadata": {
        "colab": {
          "base_uri": "https://localhost:8080/"
        },
        "id": "lRzmoMl8JLJu",
        "outputId": "6d9ec0f1-8df9-4c44-9749-90c37a226e5a"
      },
      "execution_count": null,
      "outputs": [
        {
          "output_type": "stream",
          "name": "stdout",
          "text": [
            "+-----+----------+-----+\n",
            "|label|prediction|count|\n",
            "+-----+----------+-----+\n",
            "|    1|       0.0|   19|\n",
            "|    0|       0.0|  245|\n",
            "|    1|       1.0|  122|\n",
            "|    0|       1.0|   47|\n",
            "+-----+----------+-----+\n",
            "\n",
            "Accuracy= 0.8475750577367206\n",
            "Precision = 0.72\n",
            "Recall   = 0.87\n"
          ]
        }
      ]
    },
    {
      "cell_type": "code",
      "source": [
        "import matplotlib.pyplot as plt\n",
        "import numpy as np\n",
        "import itertools\n",
        "\n",
        "def plot_confusion_matrix(cm, classes,\n",
        "                          normalize=False,\n",
        "                          title='Confusion matrix',\n",
        "                          cmap=plt.cm.Greens):\n",
        "    \"\"\"\n",
        "    This function prints and plots the confusion matrix.\n",
        "    Normalization can be applied by setting `normalize=True`.\n",
        "    \"\"\"\n",
        "    if normalize:\n",
        "        cm = cm.astype('float') / cm.sum(axis=1)[:, np.newaxis]\n",
        "        print(\"Normalized confusion matrix\")\n",
        "    else:\n",
        "        print('Confusion matrix, without normalization')\n",
        "\n",
        "    print(cm)\n",
        "\n",
        "    plt.imshow(cm, interpolation='nearest', cmap=cmap)\n",
        "    plt.title(title)\n",
        "    plt.colorbar()\n",
        "    tick_marks = np.arange(len(classes))\n",
        "    plt.xticks(tick_marks, classes, rotation=45)\n",
        "    plt.yticks(tick_marks, classes)\n",
        "\n",
        "    fmt = '.2f' if normalize else 'd'\n",
        "    thresh = cm.max() / 2.\n",
        "    for i, j in itertools.product(range(cm.shape[0]), range(cm.shape[1])):\n",
        "        plt.text(j, i, format(cm[i, j], fmt),\n",
        "                 horizontalalignment=\"center\",\n",
        "                 color=\"white\" if cm[i, j] > thresh else \"black\")\n",
        "\n",
        "    plt.tight_layout()\n",
        "    plt.ylabel('True label')\n",
        "    plt.xlabel('Predicted label')"
      ],
      "metadata": {
        "id": "1qiZugC_cOlA"
      },
      "execution_count": null,
      "outputs": []
    },
    {
      "cell_type": "code",
      "source": [
        "class_temp = prediction.select(\"label\").groupBy(\"label\")\\\n",
        "                        .count().sort('count', ascending=False).toPandas()\n",
        "class_temp = class_temp[\"label\"].values.tolist()\n",
        "\n",
        "class_temp"
      ],
      "metadata": {
        "colab": {
          "base_uri": "https://localhost:8080/"
        },
        "id": "suk4YsOaiYR7",
        "outputId": "71ccce6e-73fb-4986-a87c-c0cb9e9772de"
      },
      "execution_count": null,
      "outputs": [
        {
          "output_type": "execute_result",
          "data": {
            "text/plain": [
              "[0, 1]"
            ]
          },
          "metadata": {},
          "execution_count": 202
        }
      ]
    },
    {
      "cell_type": "code",
      "source": [
        "from sklearn.metrics import confusion_matrix\n",
        "y_true = prediction.select(\"label\")\n",
        "y_true = y_true.toPandas()\n",
        "\n",
        "y_pred = prediction.select(\"prediction\")\n",
        "y_pred = y_pred.toPandas()\n",
        "\n",
        "cnf_matrix = confusion_matrix(y_true, y_pred,labels=class_temp)\n",
        "cnf_matrix\n",
        "\n",
        "plt.figure()\n",
        "plot_confusion_matrix(cnf_matrix, classes=class_temp,\n",
        "                      title='Confusion matrix, without normalization')\n",
        "plt.show()\n"
      ],
      "metadata": {
        "colab": {
          "base_uri": "https://localhost:8080/",
          "height": 1000
        },
        "id": "ZstOVNGnifIB",
        "outputId": "0f6e8103-e204-45fe-9ab1-dc0c47734459"
      },
      "execution_count": null,
      "outputs": [
        {
          "output_type": "stream",
          "name": "stdout",
          "text": [
            "Confusion matrix, without normalization\n",
            "[[245  47]\n",
            " [ 19 122]]\n"
          ]
        },
        {
          "output_type": "display_data",
          "data": {
            "text/plain": [
              "<Figure size 1800x1440 with 2 Axes>"
            ],
            "image/png": "[encoded data removed]"
          },
          "metadata": {
            "needs_background": "light"
          }
        }
      ]
    },
    {
      "cell_type": "markdown",
      "source": [
        "#Logistic Regression"
      ],
      "metadata": {
        "id": "QzeOVmrT4oWE"
      }
    },
    {
      "cell_type": "code",
      "source": [
        "from pyspark.ml.classification import LogisticRegression\n",
        "\n",
        "logistic = LogisticRegression().fit(combined_train)\n",
        "\n",
        "# Create a predictions for the test data and show confusion matrix\n",
        "prediction = logistic.transform(combined_test)\n",
        "prediction.groupBy(\"label\", \"prediction\").count().show()"
      ],
      "metadata": {
        "colab": {
          "base_uri": "https://localhost:8080/"
        },
        "id": "8kI1xZqv3RjY",
        "outputId": "2cfded17-0e46-4599-fe28-cbac07d5d312"
      },
      "execution_count": null,
      "outputs": [
        {
          "output_type": "stream",
          "name": "stdout",
          "text": [
            "+-----+----------+-----+\n",
            "|label|prediction|count|\n",
            "+-----+----------+-----+\n",
            "|    1|       0.0|   19|\n",
            "|    0|       0.0|  244|\n",
            "|    1|       1.0|  122|\n",
            "|    0|       1.0|   48|\n",
            "+-----+----------+-----+\n",
            "\n"
          ]
        }
      ]
    },
    {
      "cell_type": "code",
      "source": [
        "from pyspark.ml.evaluation import MulticlassClassificationEvaluator\n",
        "\n",
        "# Select (prediction, true label) and compute test error\n",
        "evaluator = MulticlassClassificationEvaluator(\n",
        "    labelCol=\"label\", predictionCol=\"prediction\", metricName=\"accuracy\")\n",
        "accuracy = evaluator.evaluate(prediction)\n",
        "print(\"Test Error = %g\" % (1.0 - accuracy))"
      ],
      "metadata": {
        "colab": {
          "base_uri": "https://localhost:8080/"
        },
        "id": "EFrrWAUNexvR",
        "outputId": "f3ba8831-2de5-4ed6-b7e7-9818d6000b4a"
      },
      "execution_count": null,
      "outputs": [
        {
          "output_type": "stream",
          "name": "stdout",
          "text": [
            "Test Error = 0.154734\n"
          ]
        }
      ]
    },
    {
      "cell_type": "code",
      "source": [
        "import matplotlib.pyplot as plt\n",
        "import numpy as np\n",
        "import itertools\n",
        "\n",
        "def plot_confusion_matrix(cm, classes,\n",
        "                          normalize=False,\n",
        "                          title='Confusion matrix',\n",
        "                          cmap=plt.cm.Blues):\n",
        "    \"\"\"\n",
        "    This function prints and plots the confusion matrix.\n",
        "    Normalization can be applied by setting `normalize=True`.\n",
        "    \"\"\"\n",
        "    if normalize:\n",
        "        cm = cm.astype('float') / cm.sum(axis=1)[:, np.newaxis]\n",
        "        print(\"Normalized confusion matrix\")\n",
        "    else:\n",
        "        print('Confusion matrix, without normalization')\n",
        "\n",
        "    print(cm)\n",
        "\n",
        "    plt.imshow(cm, interpolation='nearest', cmap=cmap)\n",
        "    plt.title(title)\n",
        "    plt.colorbar()\n",
        "    tick_marks = np.arange(len(classes))\n",
        "    plt.xticks(tick_marks, classes, rotation=45)\n",
        "    plt.yticks(tick_marks, classes)\n",
        "\n",
        "    fmt = '.2f' if normalize else 'd'\n",
        "    thresh = cm.max() / 2.\n",
        "    for i, j in itertools.product(range(cm.shape[0]), range(cm.shape[1])):\n",
        "        plt.text(j, i, format(cm[i, j], fmt),\n",
        "                 horizontalalignment=\"center\",\n",
        "                 color=\"white\" if cm[i, j] > thresh else \"black\")\n",
        "\n",
        "    plt.tight_layout()\n",
        "    plt.ylabel('True label')\n",
        "    plt.xlabel('Predicted label')"
      ],
      "metadata": {
        "id": "05YjTjDHfXfJ"
      },
      "execution_count": null,
      "outputs": []
    },
    {
      "cell_type": "code",
      "source": [
        "class_temp = prediction.select(\"label\").groupBy(\"label\")\\\n",
        "                        .count().sort('count', ascending=False).toPandas()\n",
        "class_temp = class_temp[\"label\"].values.tolist()\n",
        "\n",
        "class_temp"
      ],
      "metadata": {
        "colab": {
          "base_uri": "https://localhost:8080/"
        },
        "id": "iYJYYHnqfq5J",
        "outputId": "fe294240-5355-4247-9a48-e504f7439a4c"
      },
      "execution_count": null,
      "outputs": [
        {
          "output_type": "execute_result",
          "data": {
            "text/plain": [
              "[0, 1]"
            ]
          },
          "metadata": {},
          "execution_count": 197
        }
      ]
    },
    {
      "cell_type": "code",
      "source": [
        "from sklearn.metrics import confusion_matrix\n",
        "y_true = prediction.select(\"label\")\n",
        "y_true = y_true.toPandas()\n",
        "\n",
        "y_pred = prediction.select(\"prediction\")\n",
        "y_pred = y_pred.toPandas()\n",
        "\n",
        "cnf_matrix = confusion_matrix(y_true, y_pred,labels=class_temp)\n",
        "cnf_matrix"
      ],
      "metadata": {
        "colab": {
          "base_uri": "https://localhost:8080/"
        },
        "id": "HsHjZIPKg6O1",
        "outputId": "24eedb69-2d85-425a-e689-0baaca27667a"
      },
      "execution_count": null,
      "outputs": [
        {
          "output_type": "execute_result",
          "data": {
            "text/plain": [
              "array([[245,  47],\n",
              "       [ 19, 122]])"
            ]
          },
          "metadata": {},
          "execution_count": 198
        }
      ]
    },
    {
      "cell_type": "code",
      "source": [
        "plt.figure()\n",
        "plot_confusion_matrix(cnf_matrix, classes=class_temp,\n",
        "                      title='Confusion matrix, without normalization')\n",
        "plt.show()"
      ],
      "metadata": {
        "colab": {
          "base_uri": "https://localhost:8080/",
          "height": 1000
        },
        "id": "bzFoefcXh0m9",
        "outputId": "9926b412-6218-4b70-e0d5-908f8f860743"
      },
      "execution_count": null,
      "outputs": [
        {
          "output_type": "stream",
          "name": "stdout",
          "text": [
            "Confusion matrix, without normalization\n",
            "[[245  47]\n",
            " [ 19 122]]\n"
          ]
        },
        {
          "output_type": "display_data",
          "data": {
            "text/plain": [
              "<Figure size 1800x1440 with 2 Axes>"
            ],
            "image/png": "[encoded data removed]"
          },
          "metadata": {
            "needs_background": "light"
          }
        }
      ]
    },
    {
      "cell_type": "code",
      "source": [
        "# Calculate the elements of the confusion matrix\n",
        "TNLogistic = prediction.filter('prediction = 0 AND label = prediction').count()\n",
        "TPLogistic = prediction.filter('prediction = 1 AND label = prediction').count()\n",
        "FNLogistic = prediction.filter('prediction = 0 AND label = 1').count()\n",
        "FPLogistic = prediction.filter('prediction = 1 AND label = 0').count()"
      ],
      "metadata": {
        "id": "fTJaXln03q7F"
      },
      "execution_count": null,
      "outputs": []
    },
    {
      "cell_type": "code",
      "source": [
        "from pyspark.ml.evaluation import MulticlassClassificationEvaluator, BinaryClassificationEvaluator\n",
        "\n",
        "accuracyLogistic = (TNLogistic + TPLogistic) / (TNLogistic + TPLogistic + FNLogistic + FPLogistic)\n",
        "print(\"Accuracy:\",accuracy)\n",
        "\n",
        "\n",
        "\n",
        "# Calculate precision and recall\n",
        "precisionLogistic = TPLogistic / (TPLogistic + FPLogistic)\n",
        "recallLogistic = TPLogistic / (TPLogistic + FNLogistic)\n",
        "print('precision = {:.2f}\\nrecall   = {:.2f}'.format(precision, recall))\n",
        "\n",
        "# Find weighted precision\n",
        "multi_evaluator = MulticlassClassificationEvaluator()\n",
        "weighted_precision = multi_evaluator.evaluate(prediction, {multi_evaluator.metricName: \"weightedPrecision\"})\n",
        "\n",
        "# Find AUC\n",
        "binary_evaluator = BinaryClassificationEvaluator()\n",
        "auc = binary_evaluator.evaluate(prediction, {binary_evaluator.metricName: \"areaUnderROC\"})"
      ],
      "metadata": {
        "colab": {
          "base_uri": "https://localhost:8080/"
        },
        "id": "W2ZysSxx36OT",
        "outputId": "12de9269-da8b-4784-ebf4-29e17e31e37b"
      },
      "execution_count": null,
      "outputs": [
        {
          "output_type": "stream",
          "name": "stdout",
          "text": [
            "Accuracy: 0.8452655889145496\n",
            "precision = 0.72\n",
            "recall   = 0.87\n"
          ]
        }
      ]
    }
  ]
}