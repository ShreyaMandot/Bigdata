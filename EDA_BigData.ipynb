{
  "cells": [
    {
      "cell_type": "markdown",
      "metadata": {
        "id": "view-in-github",
        "colab_type": "text"
      },
      "source": [
        "<a href=\"https://colab.research.google.com/github/ShreyaMandot/Bigdata/blob/main/EDA_BigData.ipynb\" target=\"_parent\"><img src=\"https://colab.research.google.com/assets/colab-badge.svg\" alt=\"Open In Colab\"/></a>"
      ]
    },
    {
      "cell_type": "code",
      "execution_count": null,
      "metadata": {
        "id": "QPVXhYjIDTUq"
      },
      "outputs": [],
      "source": [
        "!apt-get install openjdk-8-jdk-headless"
      ]
    },
    {
      "cell_type": "code",
      "execution_count": null,
      "metadata": {
        "colab": {
          "base_uri": "https://localhost:8080/"
        },
        "id": "j13uegoVDeHx",
        "outputId": "8baed455-ae09-4d1a-9da5-f90733db6da6"
      },
      "outputs": [
        {
          "name": "stdout",
          "output_type": "stream",
          "text": [
            "--2022-05-10 08:19:55--  https://archive.apache.org/dist/spark/spark-3.2.1/spark-3.2.1-bin-hadoop2.7.tgz\n",
            "Resolving archive.apache.org (archive.apache.org)... 138.201.131.134, 2a01:4f8:172:2ec5::2\n",
            "Connecting to archive.apache.org (archive.apache.org)|138.201.131.134|:443... connected.\n",
            "HTTP request sent, awaiting response... 200 OK\n",
            "Length: 272637746 (260M) [application/x-gzip]\n",
            "Saving to: ‘spark-3.2.1-bin-hadoop2.7.tgz’\n",
            "\n",
            "spark-3.2.1-bin-had 100%[===================>] 260.01M  2.78MB/s    in 93s     \n",
            "\n",
            "2022-05-10 08:21:28 (2.80 MB/s) - ‘spark-3.2.1-bin-hadoop2.7.tgz’ saved [272637746/272637746]\n",
            "\n"
          ]
        }
      ],
      "source": [
        "!wget https://archive.apache.org/dist/spark/spark-3.2.1/spark-3.2.1-bin-hadoop2.7.tgz\n"
      ]
    },
    {
      "cell_type": "code",
      "execution_count": null,
      "metadata": {
        "id": "EiGZqDSUDiiO"
      },
      "outputs": [],
      "source": [
        "!tar xf /content/spark-3.2.1-bin-hadoop2.7.tgz"
      ]
    },
    {
      "cell_type": "code",
      "execution_count": null,
      "metadata": {
        "id": "7vayzfgWDl-6"
      },
      "outputs": [],
      "source": [
        "!pip install -q findspark"
      ]
    },
    {
      "cell_type": "code",
      "execution_count": null,
      "metadata": {
        "id": "kgjkqWciDsn8"
      },
      "outputs": [],
      "source": [
        "import os\n",
        "os.environ[\"JAVA_HOME\"] = \"/usr/lib/jvm/java-8-openjdk-amd64\"\n",
        "os.environ[\"SPARK_HOME\"] = \"/content/spark-3.2.1-bin-hadoop2.7\""
      ]
    },
    {
      "cell_type": "code",
      "execution_count": null,
      "metadata": {
        "colab": {
          "base_uri": "https://localhost:8080/",
          "height": 36
        },
        "id": "nDAWbxx6DucN",
        "outputId": "1e7da905-0e67-4052-dad5-b954b5e8fe86"
      },
      "outputs": [
        {
          "data": {
            "application/vnd.google.colaboratory.intrinsic+json": {
              "type": "string"
            },
            "text/plain": [
              "'/content/spark-3.2.1-bin-hadoop2.7'"
            ]
          },
          "execution_count": 6,
          "metadata": {},
          "output_type": "execute_result"
        }
      ],
      "source": [
        "import findspark\n",
        "findspark.init()\n",
        "findspark.find()"
      ]
    },
    {
      "cell_type": "code",
      "execution_count": null,
      "metadata": {
        "id": "ji4os5d7DyjH"
      },
      "outputs": [],
      "source": [
        "import pyspark\n",
        "import numpy as np\n",
        "import pandas as pd"
      ]
    },
    {
      "cell_type": "code",
      "execution_count": null,
      "metadata": {
        "colab": {
          "base_uri": "https://localhost:8080/"
        },
        "id": "twt9w_3WD7_R",
        "outputId": "346eba93-6b14-4497-be83-5ec366e40d74"
      },
      "outputs": [
        {
          "name": "stdout",
          "output_type": "stream",
          "text": [
            "+-------------------+----+-------------+------+------+----+-----------+\n",
            "|          timestamp|txId|userSessionId|teamId|userId|adId| adCategory|\n",
            "+-------------------+----+-------------+------+------+----+-----------+\n",
            "|2016-05-26 15:13:22|5974|         5809|    27|   611|   2|electronics|\n",
            "|2016-05-26 15:17:24|5976|         5705|    18|  1874|  21|     movies|\n",
            "|2016-05-26 15:22:52|5978|         5791|    53|  2139|  25|  computers|\n",
            "|2016-05-26 15:22:57|5973|         5756|    63|   212|  10|    fashion|\n",
            "|2016-05-26 15:22:58|5980|         5920|     9|  1027|  20|   clothing|\n",
            "+-------------------+----+-------------+------+------+----+-----------+\n",
            "only showing top 5 rows\n",
            "\n"
          ]
        }
      ],
      "source": [
        "from pyspark.sql import SparkSession\n",
        "\n",
        "spark = SparkSession.builder.master('local[*]').appName('BIG DATA').getOrCreate()\n",
        "\n",
        "# Read data from CSV file\n",
        "#you can download it from here: https://raw.githubusercontent.com/besherh/BigDataManagement/main/SparkCSV/flights-larger.csv\n",
        "game_df = spark.read.csv('./ad-clicks.csv', sep=',', header=True, inferSchema=True, nullValue='NA')\n",
        "\n",
        "game_df.show(5)"
      ]
    },
    {
      "cell_type": "code",
      "execution_count": null,
      "metadata": {
        "id": "Oa_7YpkWES47"
      },
      "outputs": [],
      "source": [
        "from pyspark.sql import SparkSession\n",
        "\n",
        "spark = SparkSession.builder\\\n",
        "        .master(\"local\")\\\n",
        "        .appName(\"Colab\")\\\n",
        "        .config('spark.ui.port', '4050')\\\n",
        "        .getOrCreate()"
      ]
    },
    {
      "cell_type": "code",
      "execution_count": null,
      "metadata": {
        "colab": {
          "base_uri": "https://localhost:8080/",
          "height": 219
        },
        "id": "9fsfRrXeMPdV",
        "outputId": "c7cc3630-3d12-450b-a594-28b73d2240cd"
      },
      "outputs": [
        {
          "data": {
            "text/html": [
              "\n",
              "            <div>\n",
              "                <p><b>SparkSession - in-memory</b></p>\n",
              "                \n",
              "        <div>\n",
              "            <p><b>SparkContext</b></p>\n",
              "\n",
              "            <p><a href=\"http://f5ea34cc51d9:4040\">Spark UI</a></p>\n",
              "\n",
              "            <dl>\n",
              "              <dt>Version</dt>\n",
              "                <dd><code>v3.2.1</code></dd>\n",
              "              <dt>Master</dt>\n",
              "                <dd><code>local[*]</code></dd>\n",
              "              <dt>AppName</dt>\n",
              "                <dd><code>BIG DATA</code></dd>\n",
              "            </dl>\n",
              "        </div>\n",
              "        \n",
              "            </div>\n",
              "        "
            ],
            "text/plain": [
              "<pyspark.sql.session.SparkSession at 0x7fef61ac7350>"
            ]
          },
          "execution_count": 34,
          "metadata": {},
          "output_type": "execute_result"
        }
      ],
      "source": [
        "spark\n"
      ]
    },
    {
      "cell_type": "code",
      "execution_count": null,
      "metadata": {
        "id": "iFQ0qNEgOlGo"
      },
      "outputs": [],
      "source": [
        "df = spark.read.csv(\"/content/buy-clicks.csv\", header=True, inferSchema=True)"
      ]
    },
    {
      "cell_type": "code",
      "execution_count": null,
      "metadata": {
        "colab": {
          "base_uri": "https://localhost:8080/"
        },
        "id": "TBjzbR1USKEs",
        "outputId": "592980f7-1fec-4d2c-c94d-795df92e1758"
      },
      "outputs": [
        {
          "name": "stdout",
          "output_type": "stream",
          "text": [
            "+-------------------+----+-------------+----+------+-----+-----+\n",
            "|          timestamp|txId|userSessionId|team|userId|buyId|price|\n",
            "+-------------------+----+-------------+----+------+-----+-----+\n",
            "|2016-05-26 15:36:54|6004|         5820|   9|  1300|    2|  3.0|\n",
            "|2016-05-26 15:36:54|6005|         5775|  35|   868|    4| 10.0|\n",
            "|2016-05-26 15:36:54|6006|         5679|  97|   819|    5| 20.0|\n",
            "|2016-05-26 16:36:54|6067|         5665|  18|   121|    2|  3.0|\n",
            "|2016-05-26 17:06:54|6093|         5709|  11|  2222|    5| 20.0|\n",
            "+-------------------+----+-------------+----+------+-----+-----+\n",
            "only showing top 5 rows\n",
            "\n"
          ]
        }
      ],
      "source": [
        "df.show(5)"
      ]
    },
    {
      "cell_type": "code",
      "execution_count": null,
      "metadata": {
        "colab": {
          "base_uri": "https://localhost:8080/"
        },
        "id": "N3p4GuWbSQs9",
        "outputId": "a218e7bb-a395-4b39-d67d-b83ec440f2d1"
      },
      "outputs": [
        {
          "name": "stdout",
          "output_type": "stream",
          "text": [
            "+-----+----------+\n",
            "|buyId|sum(price)|\n",
            "+-----+----------+\n",
            "|1    |538.0     |\n",
            "|3    |1685.0    |\n",
            "|5    |12200.0   |\n",
            "|4    |4250.0    |\n",
            "|2    |2142.0    |\n",
            "|0    |592.0     |\n",
            "+-----+----------+\n",
            "\n"
          ]
        }
      ],
      "source": [
        "df2 = (df.groupBy(\"buyId\").sum(\"price\").show(truncate=False))"
      ]
    },
    {
      "cell_type": "markdown",
      "metadata": {
        "id": "U2VNx4HZCmCL"
      },
      "source": [
        "showing a histogram of how much money was made\n",
        "from each item."
      ]
    },
    {
      "cell_type": "code",
      "execution_count": null,
      "metadata": {
        "colab": {
          "base_uri": "https://localhost:8080/"
        },
        "id": "mNTUnsPOWCrl",
        "outputId": "6beba1dc-b7e5-4dd4-8924-0db37d346498"
      },
      "outputs": [
        {
          "name": "stdout",
          "output_type": "stream",
          "text": [
            "+-----+----------+\n",
            "|buyId|sum(price)|\n",
            "+-----+----------+\n",
            "|    1|     538.0|\n",
            "|    3|    1685.0|\n",
            "|    5|   12200.0|\n",
            "|    4|    4250.0|\n",
            "|    2|    2142.0|\n",
            "|    0|     592.0|\n",
            "+-----+----------+\n",
            "\n"
          ]
        }
      ],
      "source": [
        "df2 = df.groupBy(\"buyId\").agg({\"price\": \"sum\"})\n",
        "df2.show()"
      ]
    },
    {
      "cell_type": "code",
      "execution_count": null,
      "metadata": {
        "colab": {
          "base_uri": "https://localhost:8080/",
          "height": 297
        },
        "id": "j-LN8TEECV1u",
        "outputId": "df842706-a087-4e15-b84e-38f7c6cbde87"
      },
      "outputs": [
        {
          "data": {
            "text/plain": [
              "<matplotlib.axes._subplots.AxesSubplot at 0x7fef50ccd690>"
            ]
          },
          "execution_count": 39,
          "metadata": {},
          "output_type": "execute_result"
        },
        {
          "data": {
            "image/png": "[encoded data removed]",
            "text/plain": [
              "<Figure size 432x288 with 1 Axes>"
            ]
          },
          "metadata": {},
          "output_type": "display_data"
        }
      ],
      "source": [
        "df3 = df2.toPandas()\n",
        "#df3.plot.bar(x='buyId', y='sum(price)',color='teal',rot=0, subplots=True)\n",
        "sns.barplot(x='buyId', y='sum(price)',data=df3,palette='spring_r')"
      ]
    },
    {
      "cell_type": "markdown",
      "metadata": {
        "id": "hncwnSaw5PzA"
      },
      "source": [
        "No. of times each item was purchased"
      ]
    },
    {
      "cell_type": "code",
      "execution_count": null,
      "metadata": {
        "colab": {
          "base_uri": "https://localhost:8080/",
          "height": 484
        },
        "id": "5saaMlSF4oYW",
        "outputId": "9a6982b0-a316-4fad-bf34-e935689faa27"
      },
      "outputs": [
        {
          "name": "stdout",
          "output_type": "stream",
          "text": [
            "+-----+-----+\n",
            "|buyId|count|\n",
            "+-----+-----+\n",
            "|    1|  269|\n",
            "|    3|  337|\n",
            "|    5|  610|\n",
            "|    4|  425|\n",
            "|    2|  714|\n",
            "|    0|  592|\n",
            "+-----+-----+\n",
            "\n"
          ]
        },
        {
          "data": {
            "text/plain": [
              "<matplotlib.axes._subplots.AxesSubplot at 0x7fef50b41ad0>"
            ]
          },
          "execution_count": 48,
          "metadata": {},
          "output_type": "execute_result"
        },
        {
          "data": {
            "image/png": "[encoded data removed]",
            "text/plain": [
              "<Figure size 432x288 with 1 Axes>"
            ]
          },
          "metadata": {},
          "output_type": "display_data"
        }
      ],
      "source": [
        "newdf1 = df.groupBy(\"buyId\").count().select('buyId', f.col('count'))\n",
        "newdf1.show()\n",
        "newdf1.toPandas().plot.bar(x='buyId', y='count', color='olive')"
      ]
    },
    {
      "cell_type": "code",
      "execution_count": null,
      "metadata": {
        "colab": {
          "base_uri": "https://localhost:8080/"
        },
        "id": "XhrkNQC17keW",
        "outputId": "28c5ded6-5476-4e6b-b389-db76665d7dd1"
      },
      "outputs": [
        {
          "name": "stdout",
          "output_type": "stream",
          "text": [
            "+-------------------+----+-------------+----+------+-----+-----+\n",
            "|          timestamp|txId|userSessionId|team|userId|buyId|price|\n",
            "+-------------------+----+-------------+----+------+-----+-----+\n",
            "|2016-05-26 15:36:54|6004|         5820|   9|  1300|    2|  3.0|\n",
            "|2016-05-26 15:36:54|6005|         5775|  35|   868|    4| 10.0|\n",
            "|2016-05-26 15:36:54|6006|         5679|  97|   819|    5| 20.0|\n",
            "|2016-05-26 16:36:54|6067|         5665|  18|   121|    2|  3.0|\n",
            "|2016-05-26 17:06:54|6093|         5709|  11|  2222|    5| 20.0|\n",
            "|2016-05-26 17:06:54|6094|         5798|  77|  1304|    5| 20.0|\n",
            "|2016-05-26 18:06:54|6155|         5920|   9|  1027|    5| 20.0|\n",
            "|2016-05-26 18:06:54|6156|         5697|  35|  2199|    2|  3.0|\n",
            "|2016-05-26 18:36:54|6183|         5893|  64|  1544|    5| 20.0|\n",
            "|2016-05-26 18:36:54|6184|         5697|  35|  2199|    1|  2.0|\n",
            "|2016-05-26 19:36:54|6243|         5659|  13|  1623|    4| 10.0|\n",
            "|2016-05-26 19:36:54|6244|         5920|   9|  1027|    3|  5.0|\n",
            "|2016-05-26 20:06:54|6269|         5785|  27|  1065|    5| 20.0|\n",
            "|2016-05-26 20:06:54|6270|         5661|  63|    83|    3|  5.0|\n",
            "|2016-05-26 20:06:54|6271|         5706|   9|  1652|    0|  1.0|\n",
            "|2016-05-26 20:36:54|6292|         5921|   2|   518|    0|  1.0|\n",
            "|2016-05-26 21:06:54|6327|         5860|  57|  2221|    5| 20.0|\n",
            "|2016-05-26 22:06:54|6394|         6088|  32|  1815|    2|  3.0|\n",
            "|2016-05-26 22:06:54|6395|         5880|  35|  2146|    1|  2.0|\n",
            "|2016-05-26 22:36:54|6411|         6230|  77|  1457|    0|  1.0|\n",
            "+-------------------+----+-------------+----+------+-----+-----+\n",
            "only showing top 20 rows\n",
            "\n"
          ]
        }
      ],
      "source": [
        "from pyspark.sql import SparkSession\n",
        "import pyspark.sql.functions\n",
        "from pyspark.sql.functions import sum\n",
        "df.createOrReplaceTempView(\"buy\")\n",
        "spark.sql(\"select * from buy\").show()\n",
        "#spark.sql(\"select userId, price from buy order by price\").show()\n",
        "          "
      ]
    },
    {
      "cell_type": "markdown",
      "metadata": {
        "id": "fCyBL2fLC5mo"
      },
      "source": [
        "showing a histogram of total amount of money spent by\n",
        "the top ten users (Ranked by how much they spent)."
      ]
    },
    {
      "cell_type": "code",
      "execution_count": null,
      "metadata": {
        "colab": {
          "base_uri": "https://localhost:8080/"
        },
        "id": "JdRye7dBA59Y",
        "outputId": "9dd48533-139c-436e-a292-c56ee26eeff9"
      },
      "outputs": [
        {
          "name": "stdout",
          "output_type": "stream",
          "text": [
            "+------+---------+\n",
            "|userId|sum_price|\n",
            "+------+---------+\n",
            "|  2229|    223.0|\n",
            "|    12|    215.0|\n",
            "|   471|    202.0|\n",
            "|   511|    200.0|\n",
            "|  1027|    189.0|\n",
            "|  1260|    183.0|\n",
            "|   670|    183.0|\n",
            "|   352|    180.0|\n",
            "|  1697|    172.0|\n",
            "|  1732|    172.0|\n",
            "+------+---------+\n",
            "\n"
          ]
        }
      ],
      "source": [
        "from pyspark.sql.functions import sum, col, desc\n",
        "totaldf = df.groupBy(\"userId\") \\\n",
        "  .agg(sum(\"price\").alias(\"sum_price\")) \\\n",
        "  .sort(desc(\"sum_price\")).limit(10)\n",
        "totaldf.show()"
      ]
    },
    {
      "cell_type": "code",
      "execution_count": null,
      "metadata": {
        "colab": {
          "base_uri": "https://localhost:8080/",
          "height": 313
        },
        "id": "W47N8wHlEKpt",
        "outputId": "db3249be-973e-4411-bde7-5bb64be2142e"
      },
      "outputs": [
        {
          "data": {
            "text/plain": [
              "<matplotlib.axes._subplots.AxesSubplot at 0x7fef50e51c90>"
            ]
          },
          "execution_count": 43,
          "metadata": {},
          "output_type": "execute_result"
        },
        {
          "data": {
            "image/png": "[encoded data removed]",
            "text/plain": [
              "<Figure size 432x288 with 1 Axes>"
            ]
          },
          "metadata": {},
          "output_type": "display_data"
        }
      ],
      "source": [
        "totaldf.toPandas().plot.bar(x='userId', y='sum_price', color='pink')"
      ]
    },
    {
      "cell_type": "markdown",
      "metadata": {
        "id": "8qDvbLGeJMpk"
      },
      "source": [
        "A histogram showing how many times each category of advertisement was\n",
        "clicked-on:"
      ]
    },
    {
      "cell_type": "code",
      "execution_count": null,
      "metadata": {
        "colab": {
          "base_uri": "https://localhost:8080/",
          "height": 586
        },
        "id": "a9aKks14MxjI",
        "outputId": "b380f962-0b18-4275-eee8-d2d134b47c4d"
      },
      "outputs": [
        {
          "name": "stdout",
          "output_type": "stream",
          "text": [
            "+-----------+-----+\n",
            "| adCategory|count|\n",
            "+-----------+-----+\n",
            "| automotive|  566|\n",
            "|  computers| 2638|\n",
            "|      games| 2601|\n",
            "|     movies| 1692|\n",
            "|electronics| 1097|\n",
            "|     sports| 2074|\n",
            "|   clothing| 2340|\n",
            "|   hardware| 1588|\n",
            "|    fashion| 1727|\n",
            "+-----------+-----+\n",
            "\n"
          ]
        },
        {
          "data": {
            "text/plain": [
              "<matplotlib.axes._subplots.AxesSubplot at 0x7fef50ac7350>"
            ]
          },
          "execution_count": 44,
          "metadata": {},
          "output_type": "execute_result"
        },
        {
          "data": {
            "image/png": "[encoded data removed]",
            "text/plain": [
              "<Figure size 432x288 with 1 Axes>"
            ]
          },
          "metadata": {},
          "output_type": "display_data"
        }
      ],
      "source": [
        "import pyspark.sql.functions as f\n",
        "newdf = game_df.groupBy(\"adCategory\").count().select('adCategory', f.col('count'))\n",
        "\n",
        "newdf.show()\n",
        "\n",
        "newdf.toPandas().plot.bar(x='adCategory', y='count',color='brown')"
      ]
    },
    {
      "cell_type": "code",
      "execution_count": null,
      "metadata": {
        "colab": {
          "base_uri": "https://localhost:8080/"
        },
        "id": "c_qE_R2IrgAV",
        "outputId": "c24993bb-32e3-42fd-8947-6ed4b715a42a"
      },
      "outputs": [
        {
          "name": "stdout",
          "output_type": "stream",
          "text": [
            "+------+-------------+---------+------------+----------------+----------+-----------+---------+\n",
            "|userId|userSessionId|teamLevel|platformType|count_gameclicks|count_hits|count_buyId|avg_price|\n",
            "+------+-------------+---------+------------+----------------+----------+-----------+---------+\n",
            "|   812|         5648|        1|     android|              69|         8|       NULL|     NULL|\n",
            "|  1658|         5649|        1|      iphone|              31|         5|       NULL|     NULL|\n",
            "|  1589|         5650|        1|      iphone|              26|         2|       NULL|     NULL|\n",
            "|  1863|         5651|        1|     android|              35|         4|       NULL|     NULL|\n",
            "|   937|         5652|        1|     android|              39|         0|          1|     1.00|\n",
            "+------+-------------+---------+------------+----------------+----------+-----------+---------+\n",
            "only showing top 5 rows\n",
            "\n",
            "+------+---------+------------+----------------+----------+-----------+---------+\n",
            "|userId|teamLevel|platformType|count_gameclicks|count_hits|count_buyId|avg_price|\n",
            "+------+---------+------------+----------------+----------+-----------+---------+\n",
            "|   812|        1|     android|              69|         8|       NULL|     NULL|\n",
            "|  1658|        1|      iphone|              31|         5|       NULL|     NULL|\n",
            "|  1589|        1|      iphone|              26|         2|       NULL|     NULL|\n",
            "|  1863|        1|     android|              35|         4|       NULL|     NULL|\n",
            "|   937|        1|     android|              39|         0|          1|     1.00|\n",
            "+------+---------+------------+----------------+----------+-----------+---------+\n",
            "only showing top 5 rows\n",
            "\n"
          ]
        }
      ],
      "source": [
        "combined_df = spark.read.csv('./combined-data.csv', sep=',', header=True, inferSchema=True, nullValue='NA')\n",
        "\n",
        "combined_df.show(5)\n",
        "\n",
        "userid_drop_column = combined_df.drop('userSessionId')\n",
        "userid_drop_column.show(5)\n"
      ]
    },
    {
      "cell_type": "code",
      "execution_count": null,
      "metadata": {
        "colab": {
          "base_uri": "https://localhost:8080/"
        },
        "id": "5AOWj8pDr4A_",
        "outputId": "450e0333-0572-4576-ee66-81bd4e62585a"
      },
      "outputs": [
        {
          "name": "stdout",
          "output_type": "stream",
          "text": [
            "root\n",
            " |-- userId: integer (nullable = true)\n",
            " |-- teamLevel: integer (nullable = true)\n",
            " |-- platformType: string (nullable = true)\n",
            " |-- count_gameclicks: integer (nullable = true)\n",
            " |-- count_hits: integer (nullable = true)\n",
            " |-- count_buyId: integer (nullable = true)\n",
            " |-- avg_price: integer (nullable = true)\n",
            "\n",
            "+------+---------+------------+----------------+----------+-----------+---------+\n",
            "|userId|teamLevel|platformType|count_gameclicks|count_hits|count_buyId|avg_price|\n",
            "+------+---------+------------+----------------+----------+-----------+---------+\n",
            "|   812|        1|     android|              69|         8|       null|     null|\n",
            "|  1658|        1|      iphone|              31|         5|       null|     null|\n",
            "|  1589|        1|      iphone|              26|         2|       null|     null|\n",
            "|  1863|        1|     android|              35|         4|       null|     null|\n",
            "|   937|        1|     android|              39|         0|          1|        1|\n",
            "|   342|        1|     android|              36|         5|       null|     null|\n",
            "|   849|        1|      iphone|              40|         5|       null|     null|\n",
            "|  1277|        1|     windows|              46|         8|       null|     null|\n",
            "|  2203|        1|     android|              68|         6|       null|     null|\n",
            "|   585|        1|      iphone|              76|         9|       null|     null|\n",
            "|  1370|        1|      iphone|              69|         6|       null|     null|\n",
            "|  1623|        1|      iphone|             129|         9|          1|       10|\n",
            "|   881|        1|      iphone|              36|         6|       null|     null|\n",
            "|    83|        1|     android|             102|        14|          1|        5|\n",
            "|   453|        1|     android|             102|         7|       null|     null|\n",
            "|  1966|        1|      iphone|              63|         8|       null|     null|\n",
            "|  1073|        1|     android|             141|        21|       null|     null|\n",
            "|   121|        1|     android|              39|         4|          1|        3|\n",
            "|   462|        1|     android|              90|        10|          1|        3|\n",
            "|   708|        1|      iphone|              32|         2|       null|     null|\n",
            "+------+---------+------------+----------------+----------+-----------+---------+\n",
            "only showing top 20 rows\n",
            "\n"
          ]
        }
      ],
      "source": [
        "from pyspark.sql.types import StringType, BooleanType, IntegerType\n",
        "course_df3 = userid_drop_column \\\n",
        "  .withColumn(\"avg_price\" ,\n",
        "              userid_drop_column[\"avg_price\"]\n",
        "              .cast(IntegerType()))   \\\n",
        "  .withColumn(\"count_buyId\",\n",
        "              userid_drop_column[\"count_buyId\"]\n",
        "              .cast(IntegerType()))  \n",
        "  \n",
        "course_df3.printSchema()\n",
        "course_df3.show()"
      ]
    },
    {
      "cell_type": "code",
      "execution_count": null,
      "metadata": {
        "colab": {
          "base_uri": "https://localhost:8080/",
          "height": 504
        },
        "id": "_f-rzlXZre9Y",
        "outputId": "8fb9172e-ccc6-4237-89bf-13d9c9d6eced"
      },
      "outputs": [
        {
          "name": "stdout",
          "output_type": "stream",
          "text": [
            "+------------+-----+\n",
            "|platformType|count|\n",
            "+------------+-----+\n",
            "|      iphone| 1934|\n",
            "|     android| 1635|\n",
            "|       linux|  252|\n",
            "|         mac|  179|\n",
            "|     windows|  619|\n",
            "+------------+-----+\n",
            "\n"
          ]
        },
        {
          "data": {
            "text/plain": [
              "<matplotlib.axes._subplots.AxesSubplot at 0x7fef509e1490>"
            ]
          },
          "execution_count": 53,
          "metadata": {},
          "output_type": "execute_result"
        },
        {
          "data": {
            "image/png": "[encoded data removed]",
            "text/plain": [
              "<Figure size 432x288 with 1 Axes>"
            ]
          },
          "metadata": {},
          "output_type": "display_data"
        }
      ],
      "source": [
        "df3=course_df3.groupBy(['platformType']).count()\n",
        "df3.show()\n",
        "df3.toPandas().plot.bar(x='platformType', y='count', color='plum')\n"
      ]
    },
    {
      "cell_type": "code",
      "source": [
        ""
      ],
      "metadata": {
        "id": "HNkTH31xnX1C"
      },
      "execution_count": null,
      "outputs": []
    },
    {
      "cell_type": "code",
      "execution_count": null,
      "metadata": {
        "colab": {
          "base_uri": "https://localhost:8080/"
        },
        "id": "giYLZdxXE7Bl",
        "outputId": "d555dd2f-8f66-40a2-9710-e4d86a303dd3"
      },
      "outputs": [
        {
          "name": "stdout",
          "output_type": "stream",
          "text": [
            "Collecting gmplot\n",
            "  Downloading gmplot-1.4.1-py3-none-any.whl (164 kB)\n",
            "\u001b[?25l\r\u001b[K     |██                              | 10 kB 16.4 MB/s eta 0:00:01\r\u001b[K     |████                            | 20 kB 10.4 MB/s eta 0:00:01\r\u001b[K     |██████                          | 30 kB 5.7 MB/s eta 0:00:01\r\u001b[K     |████████                        | 40 kB 5.2 MB/s eta 0:00:01\r\u001b[K     |██████████                      | 51 kB 4.2 MB/s eta 0:00:01\r\u001b[K     |████████████                    | 61 kB 5.0 MB/s eta 0:00:01\r\u001b[K     |██████████████                  | 71 kB 4.9 MB/s eta 0:00:01\r\u001b[K     |████████████████                | 81 kB 4.8 MB/s eta 0:00:01\r\u001b[K     |██████████████████              | 92 kB 5.3 MB/s eta 0:00:01\r\u001b[K     |████████████████████            | 102 kB 5.3 MB/s eta 0:00:01\r\u001b[K     |█████████████████████▉          | 112 kB 5.3 MB/s eta 0:00:01\r\u001b[K     |███████████████████████▉        | 122 kB 5.3 MB/s eta 0:00:01\r\u001b[K     |█████████████████████████▉      | 133 kB 5.3 MB/s eta 0:00:01\r\u001b[K     |███████████████████████████▉    | 143 kB 5.3 MB/s eta 0:00:01\r\u001b[K     |█████████████████████████████▉  | 153 kB 5.3 MB/s eta 0:00:01\r\u001b[K     |███████████████████████████████▉| 163 kB 5.3 MB/s eta 0:00:01\r\u001b[K     |████████████████████████████████| 164 kB 5.3 MB/s \n",
            "\u001b[?25hRequirement already satisfied: requests in /usr/local/lib/python3.7/dist-packages (from gmplot) (2.23.0)\n",
            "Requirement already satisfied: certifi>=2017.4.17 in /usr/local/lib/python3.7/dist-packages (from requests->gmplot) (2021.10.8)\n",
            "Requirement already satisfied: chardet<4,>=3.0.2 in /usr/local/lib/python3.7/dist-packages (from requests->gmplot) (3.0.4)\n",
            "Requirement already satisfied: idna<3,>=2.5 in /usr/local/lib/python3.7/dist-packages (from requests->gmplot) (2.10)\n",
            "Requirement already satisfied: urllib3!=1.25.0,!=1.25.1,<1.26,>=1.21.1 in /usr/local/lib/python3.7/dist-packages (from requests->gmplot) (1.24.3)\n",
            "Installing collected packages: gmplot\n",
            "Successfully installed gmplot-1.4.1\n"
          ]
        }
      ],
      "source": [
        "!pip install gmplot"
      ]
    },
    {
      "cell_type": "code",
      "source": [
        "!pip install gmplot"
      ],
      "metadata": {
        "colab": {
          "base_uri": "https://localhost:8080/"
        },
        "id": "s1gJ_c7oAzqd",
        "outputId": "4e9b9b0a-5a0a-42e0-8426-0d4549a70463"
      },
      "execution_count": null,
      "outputs": [
        {
          "output_type": "stream",
          "name": "stdout",
          "text": [
            "Collecting gmplot\n",
            "  Downloading gmplot-1.4.1-py3-none-any.whl (164 kB)\n",
            "\u001b[?25l\r\u001b[K     |██                              | 10 kB 18.1 MB/s eta 0:00:01\r\u001b[K     |████                            | 20 kB 24.2 MB/s eta 0:00:01\r\u001b[K     |██████                          | 30 kB 15.1 MB/s eta 0:00:01\r\u001b[K     |████████                        | 40 kB 6.4 MB/s eta 0:00:01\r\u001b[K     |██████████                      | 51 kB 6.0 MB/s eta 0:00:01\r\u001b[K     |████████████                    | 61 kB 7.1 MB/s eta 0:00:01\r\u001b[K     |██████████████                  | 71 kB 7.7 MB/s eta 0:00:01\r\u001b[K     |████████████████                | 81 kB 6.1 MB/s eta 0:00:01\r\u001b[K     |██████████████████              | 92 kB 6.7 MB/s eta 0:00:01\r\u001b[K     |████████████████████            | 102 kB 7.4 MB/s eta 0:00:01\r\u001b[K     |█████████████████████▉          | 112 kB 7.4 MB/s eta 0:00:01\r\u001b[K     |███████████████████████▉        | 122 kB 7.4 MB/s eta 0:00:01\r\u001b[K     |█████████████████████████▉      | 133 kB 7.4 MB/s eta 0:00:01\r\u001b[K     |███████████████████████████▉    | 143 kB 7.4 MB/s eta 0:00:01\r\u001b[K     |█████████████████████████████▉  | 153 kB 7.4 MB/s eta 0:00:01\r\u001b[K     |███████████████████████████████▉| 163 kB 7.4 MB/s eta 0:00:01\r\u001b[K     |████████████████████████████████| 164 kB 7.4 MB/s \n",
            "\u001b[?25hRequirement already satisfied: requests in /usr/local/lib/python3.7/dist-packages (from gmplot) (2.23.0)\n",
            "Requirement already satisfied: chardet<4,>=3.0.2 in /usr/local/lib/python3.7/dist-packages (from requests->gmplot) (3.0.4)\n",
            "Requirement already satisfied: certifi>=2017.4.17 in /usr/local/lib/python3.7/dist-packages (from requests->gmplot) (2021.10.8)\n",
            "Requirement already satisfied: idna<3,>=2.5 in /usr/local/lib/python3.7/dist-packages (from requests->gmplot) (2.10)\n",
            "Requirement already satisfied: urllib3!=1.25.0,!=1.25.1,<1.26,>=1.21.1 in /usr/local/lib/python3.7/dist-packages (from requests->gmplot) (1.24.3)\n",
            "Installing collected packages: gmplot\n",
            "Successfully installed gmplot-1.4.1\n"
          ]
        }
      ]
    },
    {
      "cell_type": "code",
      "source": [
        "\n",
        "import numpy as np\n",
        "import pandas as pd\n",
        "import geopy\n",
        "from geopy.geocoders import Nominatim\n",
        "import gmplot\n",
        "import webbrowser\n",
        "\n",
        "\n",
        "# Read data from CSV file\n",
        "#you can download it from here: https://raw.githubusercontent.com/besherh/BigDataManagement/main/SparkCSV/flights-larger.csv\n",
        "User_df = pd.read_csv(r'./users.csv')\n",
        "\n",
        "User_df.head(5)\n",
        "\n",
        "User_df=User_df.dropna()\n",
        "\n",
        "geolocator=Nominatim(user_agent=\"geo\")\n",
        "def geolocate(country):\n",
        "     try:\n",
        "         loc=geolocator.geocode(country)\n",
        "         return(loc.latitude,loc.longitude)\n",
        "     except:\n",
        "         return np.nan\n",
        "    \n",
        "location_test=[]\n",
        "for i in User_df['country']:\n",
        "    location_test.append(geolocate(i))\n",
        "    \n",
        "location_test=[x for x in location_test if pd.isnull(x) == False]\n",
        " #print(location_test)\n",
        "location_test=pd.DataFrame(location_test,columns=[\"Latitude\",\"Longitude\"])\n",
        " #location_test=location_test.dropna()\n",
        "Lat=location_test['Latitude']\n",
        "Long=location_test['Longitude']\n",
        "map_plot=gmplot.GoogleMapPlotter(53.81604806664296, -3.0548307614209813,3)\n",
        "map_plot.heatmap(Lat,Long)\n",
        "map_plot.draw(\"test.html\")\n",
        "webbrowser.open_new_tab(\"test.html\")"
      ],
      "metadata": {
        "colab": {
          "base_uri": "https://localhost:8080/"
        },
        "id": "N-BnY_elAUbq",
        "outputId": "bd8056b4-3d8e-4153-de1c-065e92a1fd79"
      },
      "execution_count": null,
      "outputs": [
        {
          "output_type": "execute_result",
          "data": {
            "text/plain": [
              "False"
            ]
          },
          "metadata": {},
          "execution_count": 4
        }
      ]
    }
  ],
  "metadata": {
    "colab": {
      "name": "BigData.ipynb",
      "provenance": [],
      "authorship_tag": "ABX9TyNAsu0qVbv9ukI0RfADurBM",
      "include_colab_link": true
    },
    "kernelspec": {
      "display_name": "Python 3",
      "name": "python3"
    },
    "language_info": {
      "name": "python"
    }
  },
  "nbformat": 4,
  "nbformat_minor": 0
}